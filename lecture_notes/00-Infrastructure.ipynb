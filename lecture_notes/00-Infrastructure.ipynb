{
 "cells": [
  {
   "cell_type": "markdown",
   "metadata": {},
   "source": [
    "# A Repository for the Second Part of the Course\n",
    "\n",
    "\n",
    "You will find everything that you need for this course in the corresponding Github repository\n",
    "https://github.com/HelgeCPH/db_course_nosql\n",
    "\n",
    "\n"
   ]
  },
  {
   "cell_type": "markdown",
   "metadata": {},
   "source": [
    "# Intro to the New Virtual Environment\n",
    "\n",
    "We have another virtual machine (VM) with three database managment systems (DBMS) installed. These are:\n",
    "\n",
    "  * Neo4J (https://neo4j.com)\n",
    "  * MongoDB (https://www.mongodb.com)\n",
    "  * MySQL (https://www.mysql.com)\n",
    "\n",
    "We will use those for the exercises and if you wanted to you can use them for the course project.\n",
    "\n",
    "  \n",
    "## How to get started?\n",
    "\n",
    "In the following is a step by step guide to get you up and running.\n",
    "\n",
    "  * Download and install VirtualBox (https://www.virtualbox.org/wiki/Downloads)\n",
    "  * Download and install Vagrant (https://www.vagrantup.com/downloads.html)\n",
    "    * To get started with Vagrant on Windows, see https://www.sitepoint.com/getting-started-vagrant-windows/ Focus in particular on using PuTTY instead of SSH on Windows\n",
    "    * or alternatively install Git on Windows and follow the directions: http://stackoverflow.com/a/16247703\n",
    "    * On Unix'ish operating systems, if you did not already generate an SSH keypair, generate one (e.g., via ssh-keygen -t rsa)\n",
    "\n",
    "  * Check out the NoSQL course project into a directory of your choice (`/path/to/`):\n",
    "   \n",
    "    ```bash\n",
    "    git clone https://github.com/HelgeCPH/db_course_nosql.git\n",
    "    ```\n",
    "\n",
    "  * On the command line change directory to where you cloned this repository (`/path/to/`)\n",
    "\n",
    "    ```bash\n",
    "    cd /path/to/\n",
    "    cd vm/\n",
    "    ```\n",
    "\n",
    "  * Subsequently, start up the VM, which will take a bit on the first start up.\n",
    "\n",
    "    ```bash\n",
    "    vagrant up\n",
    "    ```\n",
    "\n",
    "  * You can check that the VM is up and running and that the Neo4J database is running by pointing a browser to http://127.0.0.1:7474/browser/\n",
    "    * The standard user in our setup is `neo4j` and the corresponding password is `class`.\n",
    "    * When everything is running correctly, you should see a page similar to the following\n",
    "    \n",
    "      ![](./images/neo4j_login_small.png)\n",
    "  \n",
    "\n",
    "  * Incase you want to log onto the virtual machine execute\n",
    "\n",
    "    ```bash\n",
    "    vagrant ssh\n",
    "    ```\n",
    "    \n",
    "  * And to leave that machine, just issue `exit` on it's command line.\n",
    "  * If you are done with your work on the databases you might want to put the VM to \"sleep\" via:\n",
    "\n",
    "    ```bash\n",
    "    vagrant suspend\n",
    "    ```\n",
    "  \n",
    "\n",
    "## \n",
    "\n",
    "The VM is setup so that all three databases are accessible from your host machine via the following addresses and ports:\n",
    "  \n",
    "  * Neo4J: \n",
    "    * `bolt://localhost:7687`\n",
    "    * http://127.0.0.1:7474/browser/\n",
    "  \n",
    "  * MongoDB: \n",
    "    * `mongodb://localhost:27017/`\n",
    "  * MySQL:\n",
    "    * `mysql://127.0.0.1:3306`\n",
    "  \n",
    "\n"
   ]
  },
  {
   "cell_type": "code",
   "execution_count": null,
   "metadata": {
    "collapsed": true
   },
   "outputs": [],
   "source": []
  }
 ],
 "metadata": {
  "kernelspec": {
   "display_name": "Python 3",
   "language": "python",
   "name": "python3"
  },
  "language_info": {
   "codemirror_mode": {
    "name": "ipython",
    "version": 3
   },
   "file_extension": ".py",
   "mimetype": "text/x-python",
   "name": "python",
   "nbconvert_exporter": "python",
   "pygments_lexer": "ipython3",
   "version": "3.5.2"
  }
 },
 "nbformat": 4,
 "nbformat_minor": 2
}
